{
 "cells": [
  {
   "cell_type": "markdown",
   "id": "e1202624",
   "metadata": {},
   "source": [
    "<h1>Defaulted Credit Model</h1>\n",
    "<p>Model created to the study of recuperability of defaulted credit portifolios.</p>"
   ]
  },
  {
   "cell_type": "code",
   "execution_count": 71,
   "id": "2fbe7cc6",
   "metadata": {},
   "outputs": [],
   "source": [
    "#Imports\n",
    "import numpy as np\n",
    "import pandas as pd\n",
    "from sklearn.linear_model import LogisticRegression, LinearRegression\n",
    "from lifelines import WeibullAFTFitter #Used for Weibull AFT model in survival analysis\n",
    "from scipy.stats import norm, beta\n",
    "import statsmodels.api as sm\n",
    "import matplotlib.pyplot as plt\n",
    "import seaborn as sns"
   ]
  },
  {
   "cell_type": "markdown",
   "id": "5493504a",
   "metadata": {},
   "source": [
    "<h2>Hypothetical historical data generation for testing the model</h2>"
   ]
  },
  {
   "cell_type": "code",
   "execution_count": 2,
   "id": "d40fd0bb",
   "metadata": {},
   "outputs": [],
   "source": [
    "#Generation of historical hypothetical data\n",
    "# Set random seed\n",
    "np.random.seed(42)\n",
    "\n",
    "# Generate hypothetical historical data\n",
    "n_amc, n_jud = 1200, 800\n",
    "data = pd.DataFrame({\n",
    "    'Credit_Score': np.concatenate([np.random.normal(450, 50, n_amc), np.random.normal(400, 50, n_jud)]),\n",
    "    'Delinquency_Age': np.concatenate([np.random.uniform(6, 18, n_amc), np.random.uniform(12, 24, n_jud)]),\n",
    "    'LTV': np.concatenate([np.zeros(n_amc), np.random.uniform(0, 120, n_jud)]),\n",
    "    'Stage': np.concatenate([np.zeros(n_amc), np.ones(n_jud)])\n",
    "})"
   ]
  },
  {
   "cell_type": "code",
   "execution_count": null,
   "id": "7a2d08a2",
   "metadata": {},
   "outputs": [],
   "source": [
    "# Generate outcomes\n",
    "data['PR'] = np.where(data['Stage'] == 0,\n",
    "                      np.random.binomial(1, 0.7, n_amc + n_jud), #Use binomial distribution for PR\n",
    "                      np.random.binomial(1, 0.5, n_amc + n_jud))\n",
    "data['RR'] = np.where(data['PR'] == 1,\n",
    "                      np.where(data['Stage'] == 0,\n",
    "                               beta.rvs(6, 4, size=n_amc + n_jud) * 0.75 + 0.25, #Use beta distribution for RR\n",
    "                               beta.rvs(4, 6, size=n_amc + n_jud) * 0.6 + 0.1), 0)\n",
    "data['TR'] = np.where(data['PR'] == 1,\n",
    "                      np.where(data['Stage'] == 0,\n",
    "                               norm.rvs(9, 3, n_amc + n_jud), #Use normal distribution for TR\n",
    "                               norm.rvs(36, 12, n_amc + n_jud)), 0)\n",
    "data['CC'] = np.where(data['PR'] == 1,\n",
    "                      np.where(data['Stage'] == 0,\n",
    "                               norm.rvs(0.05, 0.02, n_amc + n_jud), #Use normal distribution for CC\n",
    "                               norm.rvs(0.15, 0.05, n_amc + n_jud)), 0)\n",
    "data[['RR', 'TR', 'CC']] = data[['RR', 'TR', 'CC']].clip(lower=0) #Use clip to ensure no negative values"
   ]
  },
  {
   "cell_type": "code",
   "execution_count": 7,
   "id": "f81e4771",
   "metadata": {},
   "outputs": [
    {
     "data": {
      "text/html": [
       "<div>\n",
       "<style scoped>\n",
       "    .dataframe tbody tr th:only-of-type {\n",
       "        vertical-align: middle;\n",
       "    }\n",
       "\n",
       "    .dataframe tbody tr th {\n",
       "        vertical-align: top;\n",
       "    }\n",
       "\n",
       "    .dataframe thead th {\n",
       "        text-align: right;\n",
       "    }\n",
       "</style>\n",
       "<table border=\"1\" class=\"dataframe\">\n",
       "  <thead>\n",
       "    <tr style=\"text-align: right;\">\n",
       "      <th></th>\n",
       "      <th>Credit_Score</th>\n",
       "      <th>Delinquency_Age</th>\n",
       "      <th>LTV</th>\n",
       "      <th>Stage</th>\n",
       "      <th>PR</th>\n",
       "      <th>RR</th>\n",
       "      <th>TR</th>\n",
       "      <th>CC</th>\n",
       "    </tr>\n",
       "  </thead>\n",
       "  <tbody>\n",
       "    <tr>\n",
       "      <th>0</th>\n",
       "      <td>474.835708</td>\n",
       "      <td>10.885278</td>\n",
       "      <td>0.0</td>\n",
       "      <td>0.0</td>\n",
       "      <td>1</td>\n",
       "      <td>0.734844</td>\n",
       "      <td>6.642253</td>\n",
       "      <td>0.037631</td>\n",
       "    </tr>\n",
       "    <tr>\n",
       "      <th>1</th>\n",
       "      <td>443.086785</td>\n",
       "      <td>6.792118</td>\n",
       "      <td>0.0</td>\n",
       "      <td>0.0</td>\n",
       "      <td>1</td>\n",
       "      <td>0.656639</td>\n",
       "      <td>5.580206</td>\n",
       "      <td>0.036997</td>\n",
       "    </tr>\n",
       "    <tr>\n",
       "      <th>2</th>\n",
       "      <td>482.384427</td>\n",
       "      <td>10.185846</td>\n",
       "      <td>0.0</td>\n",
       "      <td>0.0</td>\n",
       "      <td>0</td>\n",
       "      <td>0.000000</td>\n",
       "      <td>0.000000</td>\n",
       "      <td>0.000000</td>\n",
       "    </tr>\n",
       "    <tr>\n",
       "      <th>3</th>\n",
       "      <td>526.151493</td>\n",
       "      <td>7.331977</td>\n",
       "      <td>0.0</td>\n",
       "      <td>0.0</td>\n",
       "      <td>0</td>\n",
       "      <td>0.000000</td>\n",
       "      <td>0.000000</td>\n",
       "      <td>0.000000</td>\n",
       "    </tr>\n",
       "    <tr>\n",
       "      <th>4</th>\n",
       "      <td>438.292331</td>\n",
       "      <td>15.698823</td>\n",
       "      <td>0.0</td>\n",
       "      <td>0.0</td>\n",
       "      <td>1</td>\n",
       "      <td>0.874938</td>\n",
       "      <td>3.828944</td>\n",
       "      <td>0.046560</td>\n",
       "    </tr>\n",
       "  </tbody>\n",
       "</table>\n",
       "</div>"
      ],
      "text/plain": [
       "   Credit_Score  Delinquency_Age  LTV  Stage  PR        RR        TR        CC\n",
       "0    474.835708        10.885278  0.0    0.0   1  0.734844  6.642253  0.037631\n",
       "1    443.086785         6.792118  0.0    0.0   1  0.656639  5.580206  0.036997\n",
       "2    482.384427        10.185846  0.0    0.0   0  0.000000  0.000000  0.000000\n",
       "3    526.151493         7.331977  0.0    0.0   0  0.000000  0.000000  0.000000\n",
       "4    438.292331        15.698823  0.0    0.0   1  0.874938  3.828944  0.046560"
      ]
     },
     "execution_count": 7,
     "metadata": {},
     "output_type": "execute_result"
    }
   ],
   "source": [
    "data.head()"
   ]
  },
  {
   "cell_type": "markdown",
   "id": "050af647",
   "metadata": {},
   "source": [
    "Beta Distribution Parameters (α, β)<p>\n",
    "The beta distribution is parameterized by two shape parameters, α and β, which determine its shape, mean, and variance. The mean and variance of a beta distribution are:\n",
    "\n",
    "$$\n",
    "\\text{Mean} = \\frac{\\alpha}{\\alpha + \\beta}\n",
    "$$\n",
    "$$\\text{Variance} = \\frac{\\alpha \\beta}{(\\alpha + \\beta)^2 (\\alpha + \\beta + 1)}\n",
    "$$\n",
    "The standard deviation is the square root of the variance. The parameters alpha (α) and beta (β) were chosen to match the hypothetical historical data’s recovery rate characteristics for each collection stage, as specified earlier.\n",
    "Then:\n",
    "$$\n",
    "\\alpha = \\mu \\left( \\frac{\\mu (1 - \\mu)}{\\sigma^2} - 1 \\right)\n",
    "$$\n",
    "$$\n",
    "\\beta = (1−\\mu)(\\frac{\\mu(1−\\mu)}{\\sigma^2}−1)\n",
    "\n"
   ]
  },
  {
   "cell_type": "markdown",
   "id": "ca3142dd",
   "metadata": {},
   "source": [
    "<h2>Get parameters from historical data using regression models</h2>"
   ]
  },
  {
   "cell_type": "code",
   "execution_count": 53,
   "id": "5772aa0f",
   "metadata": {},
   "outputs": [],
   "source": [
    "# Prepare features\n",
    "X = data[['Credit_Score', 'Delinquency_Age', 'LTV', 'Stage']]\n",
    "X_recovered = X[data['PR'] == 1]\n",
    "\n",
    "# Logistic Regression for PR\n",
    "logit_model = LogisticRegression().fit(X[['Credit_Score', 'Delinquency_Age', 'LTV', 'Stage']], data['PR'])\n",
    "\n",
    "# Linear Regression for RR\n",
    "rr_model = LinearRegression().fit(X_recovered[['Credit_Score', 'Delinquency_Age', 'LTV', 'Stage']],\n",
    "                                  data[data['PR'] == 1]['RR'])\n",
    "\n",
    "# Linear Regression for TR\n",
    "tr_model = LinearRegression().fit(X_recovered[['Credit_Score', 'Delinquency_Age', 'LTV', 'Stage']],\n",
    "                                  data[data['PR'] == 1]['TR'])\n",
    "\n",
    "# A different aproach for TR would be Survival Analysis for that\n",
    "# We'll train a  Weibull AFT model\n",
    "aft_data = X_recovered.copy()\n",
    "aft_data['TR'] = data[data['PR'] == 1]['TR'] / 12  # Convert to years\n",
    "# Ensure all durations are strictly positive\n",
    "aft_data['TR'] = aft_data['TR'].clip(lower=1e-3)\n",
    "aft_model = WeibullAFTFitter()\n",
    "aft_model.fit(aft_data, duration_col='TR', event_col=None)  # No censoring\n",
    "\n",
    "# Linear Regression for CC\n",
    "cc_model = LinearRegression().fit(X_recovered[['Credit_Score', 'Delinquency_Age', 'LTV', 'Stage']],\n",
    "                                  data[data['PR'] == 1]['CC'])"
   ]
  },
  {
   "cell_type": "code",
   "execution_count": 56,
   "id": "8faa8243",
   "metadata": {},
   "outputs": [],
   "source": [
    "# Step 3: Estimate standard deviations from residuals\n",
    "# RR residuals\n",
    "rr_pred = rr_model.predict(X_recovered)\n",
    "rr_residuals = data[data['PR'] == 1]['RR'] - rr_pred\n",
    "rr_std = np.std(rr_residuals, ddof=1)  # Sample standard deviation\n",
    "\n",
    "# TR residuals\n",
    "tr_pred = tr_model.predict(X_recovered)\n",
    "tr_residuals = data[data['PR'] == 1]['TR'] - tr_pred\n",
    "tr_std = np.std(tr_residuals, ddof=1) / 12  # Convert to years\n",
    "\n",
    "# TR residuals (using AFT predictions)\n",
    "tr_pred_AFT = np.exp(aft_model.predict_expectation(X_recovered))  # Predicted TR in years\n",
    "tr_residuals_AFT = aft_data['TR'] - tr_pred\n",
    "tr_std_AFT = np.std(tr_residuals_AFT, ddof=1)\n",
    "\n",
    "# CC residuals\n",
    "cc_pred = cc_model.predict(X_recovered)\n",
    "cc_residuals = data[data['PR'] == 1]['CC'] - cc_pred\n",
    "cc_std = np.std(cc_residuals, ddof=1)"
   ]
  },
  {
   "cell_type": "code",
   "execution_count": 57,
   "id": "a69d9d09",
   "metadata": {},
   "outputs": [
    {
     "name": "stdout",
     "output_type": "stream",
     "text": [
      "RR Standard Deviation: 0.1008\n",
      "TR Standard Deviation: 0.5851\n",
      "TR Standard Deviation (AFT): 11.8629\n",
      "CC Standard Deviation: 0.0323\n"
     ]
    }
   ],
   "source": [
    "# Print results of standard deviations\n",
    "print(f\"RR Standard Deviation: {rr_std:.4f}\")\n",
    "print(f\"TR Standard Deviation: {tr_std:.4f}\")\n",
    "print(f'TR Standard Deviation (AFT): {tr_std_AFT:.4f}')\n",
    "print(f\"CC Standard Deviation: {cc_std:.4f}\")"
   ]
  },
  {
   "cell_type": "markdown",
   "id": "ae34b2e0",
   "metadata": {},
   "source": [
    "<h2>Example of using the models for obtaining the params for different loans</h2>"
   ]
  },
  {
   "cell_type": "code",
   "execution_count": 12,
   "id": "3e82ef06",
   "metadata": {},
   "outputs": [],
   "source": [
    "# Example loans\n",
    "loan1 = pd.DataFrame({'Credit_Score': [500], 'Delinquency_Age': [12], 'LTV': [0], 'Stage': [0]})\n",
    "loan2 = pd.DataFrame({'Credit_Score': [450], 'Delinquency_Age': [18], 'LTV': [80], 'Stage': [1]})\n",
    "loan1 = sm.add_constant(loan1)\n",
    "loan2 = sm.add_constant(loan2)\n",
    "\n",
    "# Predict\n",
    "loan1_pr = logit_model.predict_proba(loan1[['Credit_Score', 'Delinquency_Age', 'LTV', 'Stage']])[:, 1][0]\n",
    "loan2_pr = logit_model.predict_proba(loan2[['Credit_Score', 'Delinquency_Age', 'LTV', 'Stage']])[:, 1][0]\n",
    "loan1_rr = rr_model.predict(loan1[['Credit_Score', 'Delinquency_Age', 'LTV', 'Stage']])[0]\n",
    "loan2_rr = rr_model.predict(loan2[['Credit_Score', 'Delinquency_Age', 'LTV', 'Stage']])[0]\n",
    "loan1_tr = tr_model.predict(loan1[['Credit_Score', 'Delinquency_Age', 'LTV', 'Stage']])[0] / 12  # Convert to years\n",
    "loan2_tr = tr_model.predict(loan2[['Credit_Score', 'Delinquency_Age', 'LTV', 'Stage']])[0] / 12\n",
    "loan1_cc = cc_model.predict(loan1[['Credit_Score', 'Delinquency_Age', 'LTV', 'Stage']])[0]\n",
    "loan2_cc = cc_model.predict(loan2[['Credit_Score', 'Delinquency_Age', 'LTV', 'Stage']])[0]"
   ]
  },
  {
   "cell_type": "code",
   "execution_count": 19,
   "id": "69da8e7e",
   "metadata": {},
   "outputs": [
    {
     "name": "stdout",
     "output_type": "stream",
     "text": [
      "Loan 1: PR=0.69, RR=0.70, TR=0.73 years, CC=0.05\n",
      "Loan 2: PR=0.50, RR=0.34, TR=3.05 years, CC=0.15\n"
     ]
    }
   ],
   "source": [
    "#Print results\n",
    "print(f\"Loan 1: PR={loan1_pr:.2f}, RR={loan1_rr:.2f}, TR={loan1_tr:.2f} years, CC={loan1_cc:.2f}\")\n",
    "print(f\"Loan 2: PR={loan2_pr:.2f}, RR={loan2_rr:.2f}, TR={loan2_tr:.2f} years, CC={loan2_cc:.2f}\")"
   ]
  },
  {
   "cell_type": "markdown",
   "id": "f025db7c",
   "metadata": {},
   "source": [
    "<h2>Monte Carlo Simulation for 2 Loans</h2>"
   ]
  },
  {
   "cell_type": "code",
   "execution_count": 20,
   "id": "6795e5ff",
   "metadata": {},
   "outputs": [],
   "source": [
    "# Monte Carlo Simulation\n",
    "n_simulations = 10000\n",
    "discount_rate = 0.08\n",
    "\n",
    "def simulate_recovery(balance, pr, rr_mean, tr_mean, cc_mean):\n",
    "    recoveries = []\n",
    "    for _ in range(n_simulations):\n",
    "        recover = np.random.binomial(1, pr)\n",
    "        if recover:\n",
    "            rr = np.clip(norm.rvs(rr_mean, 0.1), 0, 1)\n",
    "            tr = np.clip(norm.rvs(tr_mean, 0.25), 0.1, None)\n",
    "            cc = np.clip(norm.rvs(cc_mean * (rr * balance), 0.02 * (rr * balance)), 0, None)\n",
    "            net_recovery = rr * balance - cc\n",
    "            pv = net_recovery / (1 + discount_rate) ** tr\n",
    "            recoveries.append(pv)\n",
    "        else:\n",
    "            recoveries.append(0)\n",
    "    return np.array(recoveries)"
   ]
  },
  {
   "cell_type": "code",
   "execution_count": 33,
   "id": "181d5af9",
   "metadata": {},
   "outputs": [],
   "source": [
    "# Run simulations\n",
    "loan1_recoveries = simulate_recovery(10000, loan1_pr, loan1_rr, loan1_tr, loan1_cc)\n",
    "loan2_recoveries = simulate_recovery(20000, loan2_pr, loan2_rr, loan2_tr, loan2_cc)\n",
    "\n",
    "# Summarize\n",
    "loan1_mean = np.mean(loan1_recoveries)\n",
    "loan1_ci = np.percentile(loan1_recoveries, [.025, .975])\n",
    "loan2_mean = np.mean(loan2_recoveries)\n",
    "loan2_ci = np.percentile(loan2_recoveries, [.025, .975])"
   ]
  },
  {
   "cell_type": "code",
   "execution_count": 22,
   "id": "0793a813",
   "metadata": {},
   "outputs": [
    {
     "name": "stdout",
     "output_type": "stream",
     "text": [
      "Loan 1 (Amicable):\n",
      "PR: 0.694, RR: 0.695, TR: 8.8 months, CC: 0.051\n",
      "Expected Recovery (PV): $4353.53\n",
      "95% CI: [$0.00, $7611.57]\n",
      "Recovery %: 43.54%\n",
      "\n",
      "Loan 2 (Judicial):\n",
      "PR: 0.499, RR: 0.339, TR: 36.6 months, CC: 0.147\n",
      "Expected Recovery (PV): $2308.09\n",
      "95% CI: [$0.00, $6311.42]\n",
      "Recovery %: 11.54%\n"
     ]
    }
   ],
   "source": [
    "# Print results\n",
    "print(\"Loan 1 (Amicable):\")\n",
    "print(f\"PR: {loan1_pr:.3f}, RR: {loan1_rr:.3f}, TR: {loan1_tr*12:.1f} months, CC: {loan1_cc:.3f}\")\n",
    "print(f\"Expected Recovery (PV): ${loan1_mean:.2f}\")\n",
    "print(f\"95% CI: [${loan1_ci[0]:.2f}, ${loan1_ci[1]:.2f}]\")\n",
    "print(f\"Recovery %: {loan1_mean/10000*100:.2f}%\")\n",
    "print(\"\\nLoan 2 (Judicial):\")\n",
    "print(f\"PR: {loan2_pr:.3f}, RR: {loan2_rr:.3f}, TR: {loan2_tr*12:.1f} months, CC: {loan2_cc:.3f}\")\n",
    "print(f\"Expected Recovery (PV): ${loan2_mean:.2f}\")\n",
    "print(f\"95% CI: [${loan2_ci[0]:.2f}, ${loan2_ci[1]:.2f}]\")\n",
    "print(f\"Recovery %: {loan2_mean/20000*100:.2f}%\")"
   ]
  },
  {
   "cell_type": "markdown",
   "id": "eaf516c8",
   "metadata": {},
   "source": [
    "<h2>Generating a new portfolio</h2>"
   ]
  },
  {
   "cell_type": "code",
   "execution_count": 23,
   "id": "083b92cb",
   "metadata": {},
   "outputs": [],
   "source": [
    "# Generate portfolio data (1,000 loans)\n",
    "n_portfolio_amc, n_portfolio_jud = 600, 400 # 60% Amicable, 40% Judicial\n",
    "portfolio = pd.DataFrame({\n",
    "    'Credit_Score': np.concatenate([np.random.normal(450, 50, n_portfolio_amc),\n",
    "                                   np.random.normal(400, 50, n_portfolio_jud)]),\n",
    "    'Delinquency_Age': np.concatenate([np.random.uniform(6, 18, n_portfolio_amc),\n",
    "                                       np.random.uniform(12, 24, n_portfolio_jud)]),\n",
    "    'LTV': np.concatenate([np.zeros(n_portfolio_amc), np.random.uniform(0, 120, n_portfolio_jud)]),\n",
    "    'Stage': np.concatenate([np.zeros(n_portfolio_amc), np.ones(n_portfolio_jud)]),\n",
    "    'Outstanding_Balance': np.concatenate([np.random.uniform(5000, 8333, n_portfolio_amc),  # Avg ~$6,667\n",
    "                                          np.random.uniform(10000, 20000, n_portfolio_jud)])  # Avg ~$15,000\n",
    "})"
   ]
  },
  {
   "cell_type": "code",
   "execution_count": 24,
   "id": "8e548e4f",
   "metadata": {},
   "outputs": [
    {
     "data": {
      "text/html": [
       "<div>\n",
       "<style scoped>\n",
       "    .dataframe tbody tr th:only-of-type {\n",
       "        vertical-align: middle;\n",
       "    }\n",
       "\n",
       "    .dataframe tbody tr th {\n",
       "        vertical-align: top;\n",
       "    }\n",
       "\n",
       "    .dataframe thead th {\n",
       "        text-align: right;\n",
       "    }\n",
       "</style>\n",
       "<table border=\"1\" class=\"dataframe\">\n",
       "  <thead>\n",
       "    <tr style=\"text-align: right;\">\n",
       "      <th></th>\n",
       "      <th>Credit_Score</th>\n",
       "      <th>Delinquency_Age</th>\n",
       "      <th>LTV</th>\n",
       "      <th>Stage</th>\n",
       "      <th>Outstanding_Balance</th>\n",
       "    </tr>\n",
       "  </thead>\n",
       "  <tbody>\n",
       "    <tr>\n",
       "      <th>0</th>\n",
       "      <td>414.700267</td>\n",
       "      <td>12.689841</td>\n",
       "      <td>0.0</td>\n",
       "      <td>0.0</td>\n",
       "      <td>5189.352802</td>\n",
       "    </tr>\n",
       "    <tr>\n",
       "      <th>1</th>\n",
       "      <td>421.882906</td>\n",
       "      <td>9.844295</td>\n",
       "      <td>0.0</td>\n",
       "      <td>0.0</td>\n",
       "      <td>6025.687900</td>\n",
       "    </tr>\n",
       "    <tr>\n",
       "      <th>2</th>\n",
       "      <td>435.434424</td>\n",
       "      <td>6.857539</td>\n",
       "      <td>0.0</td>\n",
       "      <td>0.0</td>\n",
       "      <td>8219.898919</td>\n",
       "    </tr>\n",
       "    <tr>\n",
       "      <th>3</th>\n",
       "      <td>462.016558</td>\n",
       "      <td>10.524752</td>\n",
       "      <td>0.0</td>\n",
       "      <td>0.0</td>\n",
       "      <td>6896.069482</td>\n",
       "    </tr>\n",
       "    <tr>\n",
       "      <th>4</th>\n",
       "      <td>481.337004</td>\n",
       "      <td>14.764452</td>\n",
       "      <td>0.0</td>\n",
       "      <td>0.0</td>\n",
       "      <td>6392.347341</td>\n",
       "    </tr>\n",
       "  </tbody>\n",
       "</table>\n",
       "</div>"
      ],
      "text/plain": [
       "   Credit_Score  Delinquency_Age  LTV  Stage  Outstanding_Balance\n",
       "0    414.700267        12.689841  0.0    0.0          5189.352802\n",
       "1    421.882906         9.844295  0.0    0.0          6025.687900\n",
       "2    435.434424         6.857539  0.0    0.0          8219.898919\n",
       "3    462.016558        10.524752  0.0    0.0          6896.069482\n",
       "4    481.337004        14.764452  0.0    0.0          6392.347341"
      ]
     },
     "execution_count": 24,
     "metadata": {},
     "output_type": "execute_result"
    }
   ],
   "source": [
    "portfolio.head()"
   ]
  },
  {
   "cell_type": "code",
   "execution_count": 25,
   "id": "edf50c84",
   "metadata": {},
   "outputs": [],
   "source": [
    "# Step: Predict parameters for all loans using the models fitted on historical data\n",
    "portfolio['PR'] = logit_model.predict_proba(portfolio[['Credit_Score', 'Delinquency_Age', 'LTV', 'Stage']])[:, 1]\n",
    "portfolio['RR'] = rr_model.predict(portfolio[['Credit_Score', 'Delinquency_Age', 'LTV', 'Stage']])\n",
    "portfolio['TR'] = tr_model.predict(portfolio[['Credit_Score', 'Delinquency_Age', 'LTV', 'Stage']]) / 12  # Convert to years\n",
    "portfolio['CC'] = cc_model.predict(portfolio[['Credit_Score', 'Delinquency_Age', 'LTV', 'Stage']])\n",
    "portfolio[['RR', 'CC']] = portfolio[['RR', 'CC']].clip(lower=0)\n",
    "portfolio['TR'] = portfolio['TR'].clip(lower=0.1)"
   ]
  },
  {
   "cell_type": "code",
   "execution_count": 26,
   "id": "9c31b94d",
   "metadata": {},
   "outputs": [
    {
     "data": {
      "text/html": [
       "<div>\n",
       "<style scoped>\n",
       "    .dataframe tbody tr th:only-of-type {\n",
       "        vertical-align: middle;\n",
       "    }\n",
       "\n",
       "    .dataframe tbody tr th {\n",
       "        vertical-align: top;\n",
       "    }\n",
       "\n",
       "    .dataframe thead th {\n",
       "        text-align: right;\n",
       "    }\n",
       "</style>\n",
       "<table border=\"1\" class=\"dataframe\">\n",
       "  <thead>\n",
       "    <tr style=\"text-align: right;\">\n",
       "      <th></th>\n",
       "      <th>Credit_Score</th>\n",
       "      <th>Delinquency_Age</th>\n",
       "      <th>LTV</th>\n",
       "      <th>Stage</th>\n",
       "      <th>Outstanding_Balance</th>\n",
       "      <th>PR</th>\n",
       "      <th>RR</th>\n",
       "      <th>TR</th>\n",
       "      <th>CC</th>\n",
       "    </tr>\n",
       "  </thead>\n",
       "  <tbody>\n",
       "    <tr>\n",
       "      <th>0</th>\n",
       "      <td>414.700267</td>\n",
       "      <td>12.689841</td>\n",
       "      <td>0.0</td>\n",
       "      <td>0.0</td>\n",
       "      <td>5189.352802</td>\n",
       "      <td>0.704826</td>\n",
       "      <td>0.692163</td>\n",
       "      <td>0.749685</td>\n",
       "      <td>0.050171</td>\n",
       "    </tr>\n",
       "    <tr>\n",
       "      <th>1</th>\n",
       "      <td>421.882906</td>\n",
       "      <td>9.844295</td>\n",
       "      <td>0.0</td>\n",
       "      <td>0.0</td>\n",
       "      <td>6025.687900</td>\n",
       "      <td>0.709596</td>\n",
       "      <td>0.693447</td>\n",
       "      <td>0.767386</td>\n",
       "      <td>0.050245</td>\n",
       "    </tr>\n",
       "    <tr>\n",
       "      <th>2</th>\n",
       "      <td>435.434424</td>\n",
       "      <td>6.857539</td>\n",
       "      <td>0.0</td>\n",
       "      <td>0.0</td>\n",
       "      <td>8219.898919</td>\n",
       "      <td>0.713696</td>\n",
       "      <td>0.694996</td>\n",
       "      <td>0.784397</td>\n",
       "      <td>0.050376</td>\n",
       "    </tr>\n",
       "    <tr>\n",
       "      <th>3</th>\n",
       "      <td>462.016558</td>\n",
       "      <td>10.524752</td>\n",
       "      <td>0.0</td>\n",
       "      <td>0.0</td>\n",
       "      <td>6896.069482</td>\n",
       "      <td>0.702384</td>\n",
       "      <td>0.694539</td>\n",
       "      <td>0.752239</td>\n",
       "      <td>0.050596</td>\n",
       "    </tr>\n",
       "    <tr>\n",
       "      <th>4</th>\n",
       "      <td>481.337004</td>\n",
       "      <td>14.764452</td>\n",
       "      <td>0.0</td>\n",
       "      <td>0.0</td>\n",
       "      <td>6392.347341</td>\n",
       "      <td>0.690697</td>\n",
       "      <td>0.693630</td>\n",
       "      <td>0.718036</td>\n",
       "      <td>0.050749</td>\n",
       "    </tr>\n",
       "  </tbody>\n",
       "</table>\n",
       "</div>"
      ],
      "text/plain": [
       "   Credit_Score  Delinquency_Age  LTV  Stage  Outstanding_Balance        PR  \\\n",
       "0    414.700267        12.689841  0.0    0.0          5189.352802  0.704826   \n",
       "1    421.882906         9.844295  0.0    0.0          6025.687900  0.709596   \n",
       "2    435.434424         6.857539  0.0    0.0          8219.898919  0.713696   \n",
       "3    462.016558        10.524752  0.0    0.0          6896.069482  0.702384   \n",
       "4    481.337004        14.764452  0.0    0.0          6392.347341  0.690697   \n",
       "\n",
       "         RR        TR        CC  \n",
       "0  0.692163  0.749685  0.050171  \n",
       "1  0.693447  0.767386  0.050245  \n",
       "2  0.694996  0.784397  0.050376  \n",
       "3  0.694539  0.752239  0.050596  \n",
       "4  0.693630  0.718036  0.050749  "
      ]
     },
     "execution_count": 26,
     "metadata": {},
     "output_type": "execute_result"
    }
   ],
   "source": [
    "portfolio.head()"
   ]
  },
  {
   "cell_type": "markdown",
   "id": "963da2ea",
   "metadata": {},
   "source": [
    "<h2>Monte Carlo Simulation for the whole portifolio</h2>"
   ]
  },
  {
   "cell_type": "code",
   "execution_count": null,
   "id": "902952c1",
   "metadata": {},
   "outputs": [],
   "source": [
    "# Step: Monte Carlo simulation for portfolio\n",
    "discount_rate = 0.08\n",
    "n_simulations = 10000\n",
    "\n",
    "def simulate_portfolio_recovery(portfolio, n_simulations, survival_analysis=False):\n",
    "    n_loans = len(portfolio)\n",
    "    portfolio_recoveries = np.zeros(n_simulations)\n",
    "    \n",
    "    for i in range(n_simulations):\n",
    "        # Simulate recovery events for all loans\n",
    "        recover = np.random.binomial(1, portfolio['PR'])\n",
    "        # Simulate RR, TR, CC for recovering loans\n",
    "        rr = np.clip(norm.rvs(portfolio['RR'], rr_std, size=n_loans), 0, 1)\n",
    "        if survival_analysis:\n",
    "            # Use AFT model for TR\n",
    "            tr = np.clip(aft_model.predict_expectation(portfolio[['Credit_Score', 'Delinquency_Age', 'LTV', 'Stage']]), 0.1, None)\n",
    "        else:\n",
    "            tr = np.clip(norm.rvs(portfolio['TR'], tr_std, size=n_loans), 0.1, None)  \n",
    "        recovery_amount = rr * portfolio['Outstanding_Balance']\n",
    "        cc = np.clip(norm.rvs(portfolio['CC'] * recovery_amount, cc_std * recovery_amount, size=n_loans), 0, None)\n",
    "        # Calculate net recovery and discount to present value\n",
    "        net_recovery = recover * (recovery_amount - cc)\n",
    "        pv = net_recovery / (1 + discount_rate) ** tr\n",
    "        # Sum across all loans for this simulation\n",
    "        portfolio_recoveries[i] = np.sum(pv)\n",
    "    \n",
    "    return portfolio_recoveries"
   ]
  },
  {
   "cell_type": "code",
   "execution_count": 60,
   "id": "9a50e521",
   "metadata": {},
   "outputs": [
    {
     "name": "stdout",
     "output_type": "stream",
     "text": [
      "Portfolio Results:\n",
      "Total Outstanding Balance: $9,987,349.04\n",
      "Expected Recovery (PV): $2,422,638.13\n",
      "95% Confidence Interval: [$2,198,019.05, $2,277,296.24]\n",
      "Recovery as % of Total Balance: 24.26%\n"
     ]
    }
   ],
   "source": [
    "# Run simulation\n",
    "portfolio_recoveries = simulate_portfolio_recovery(portfolio, n_simulations, survival_analysis=True)\n",
    "\n",
    "# Step 6: Summarize results\n",
    "portfolio_mean = np.mean(portfolio_recoveries)\n",
    "portfolio_ci = np.percentile(portfolio_recoveries, [.025, .975])\n",
    "portfolio_total_balance = portfolio['Outstanding_Balance'].sum()\n",
    "\n",
    "print(\"Portfolio Results:\")\n",
    "print(f\"Total Outstanding Balance: ${portfolio_total_balance:,.2f}\")\n",
    "print(f\"Expected Recovery (PV): ${portfolio_mean:,.2f}\")\n",
    "print(f\"95% Confidence Interval: [${portfolio_ci[0]:,.2f}, ${portfolio_ci[1]:,.2f}]\")\n",
    "print(f\"Recovery as % of Total Balance: {portfolio_mean/portfolio_total_balance*100:.2f}%\")"
   ]
  },
  {
   "cell_type": "markdown",
   "id": "e8fee2e0",
   "metadata": {},
   "source": [
    "<h2>Sensitivity Analysis</h2>"
   ]
  },
  {
   "cell_type": "code",
   "execution_count": 68,
   "id": "e499725a",
   "metadata": {},
   "outputs": [],
   "source": [
    "# Create a grid of variations from 0.7 to 1.3\n",
    "grid_size = 13\n",
    "grid = np.linspace(0.7, 1.3, grid_size)"
   ]
  },
  {
   "cell_type": "code",
   "execution_count": null,
   "id": "26eb9017",
   "metadata": {},
   "outputs": [],
   "source": [
    "# Step 6: Sensitivity analysis\n",
    "n_simulations = 10000\n",
    "discount_rate = 0.08\n",
    "scales = [0.8, 0.9, 1.0, 1.1, 1.2]  # -20%, -10%, 0%, +10%, +20%\n",
    "results = []\n",
    "\n",
    "def simulate_portfolio_recovery(portfolio, n_simulations, rr_std, tr_std, cc_std, pr_scale=1.0, tr_scale=1.0, survival_analysis=False):\n",
    "    n_loans = len(portfolio)\n",
    "    portfolio_recoveries = np.zeros(n_simulations)\n",
    "    \n",
    "    for i in range(n_simulations):\n",
    "        recover = np.random.binomial(1, portfolio['PR'] * pr_scale)\n",
    "        rr = np.clip(norm.rvs(portfolio['RR'], rr_std, size=n_loans), 0, 1)\n",
    "        if survival_analysis:\n",
    "            # Use AFT model for TR\n",
    "            tr = np.clip(aft_model.predict_expectation(portfolio[['Credit_Score', 'Delinquency_Age', 'LTV', 'Stage']])*tr_scale, 0.1, None)\n",
    "        else:\n",
    "            tr = np.clip(norm.rvs(portfolio['TR']*tr_scale, tr_std, size=n_loans), 0.1, None)\n",
    "        recovery_amount = rr * portfolio['Outstanding_Balance']\n",
    "        cc = np.clip(norm.rvs(portfolio['CC'] * recovery_amount, cc_std * recovery_amount, size=n_loans), 0, None)\n",
    "        net_recovery = recover * (recovery_amount - cc)\n",
    "        pv = net_recovery / (1 + discount_rate) ** tr\n",
    "        portfolio_recoveries[i] = np.sum(pv)\n",
    "    \n",
    "    return portfolio_recoveries\n",
    "\n",
    "# Run sensitivity analysis\n",
    "for pr_scale in scales:\n",
    "    for tr_scale in scales:\n",
    "        recoveries = simulate_portfolio_recovery(portfolio, n_simulations, rr_std, tr_std, cc_std, pr_scale, tr_scale)\n",
    "        mean_recovery = np.mean(recoveries)\n",
    "        ci = np.percentile(recoveries, [2.5, 97.5])\n",
    "        results.append({\n",
    "            'PR_Scale': pr_scale,\n",
    "            'TR_Scale': tr_scale,\n",
    "            'Expected_Recovery': mean_recovery,\n",
    "            'CI_Lower': ci[0],\n",
    "            'CI_Upper': ci[1]\n",
    "        })\n",
    "\n",
    "# Convert results to DataFrame\n",
    "results_df = pd.DataFrame(results)\n"
   ]
  },
  {
   "cell_type": "code",
   "execution_count": 72,
   "id": "7072591c",
   "metadata": {},
   "outputs": [
    {
     "name": "stdout",
     "output_type": "stream",
     "text": [
      "\n",
      "Sensitivity Analysis Results:\n",
      "TR_Scale       0.8       0.9       1.0       1.1       1.2\n",
      "RR_Scale                                                  \n",
      "0.8       1.974343  1.954075  1.933789  1.914183  1.894461\n",
      "0.9       2.219389  2.197222  2.175114  2.153555  2.132289\n",
      "1.0       2.466745  2.441536  2.417399  2.392671  2.367809\n",
      "1.1       2.711317  2.684931  2.658439  2.631055  2.604714\n",
      "1.2       2.954870  2.923639  2.895305  2.865665  2.838041  (in $M)\n"
     ]
    },
    {
     "data": {
      "image/png": "[encoded data removed]",
      "text/plain": [
       "<Figure size 800x600 with 2 Axes>"
      ]
     },
     "metadata": {},
     "output_type": "display_data"
    },
    {
     "name": "stdout",
     "output_type": "stream",
     "text": [
      "\n",
      "RR Sensitivity (% change in recovery per % change in RR):\n",
      "RR_Scale\n",
      "0.8   -20.005371\n",
      "0.9   -10.022524\n",
      "1.0     0.000000\n",
      "1.1     9.971062\n",
      "1.2    19.769464\n",
      "Name: Expected_Recovery, dtype: float64\n",
      "\n",
      "TR Sensitivity (% change in recovery per % change in TR):\n",
      "TR_Scale\n",
      "0.8    2.041291\n",
      "0.9    0.998474\n",
      "1.0    0.000000\n",
      "1.1   -1.022914\n",
      "1.2   -2.051363\n",
      "Name: Expected_Recovery, dtype: float64\n"
     ]
    }
   ],
   "source": [
    "\n",
    "# Step 7: Summarize and visualize\n",
    "print(\"\\nSensitivity Analysis Results:\")\n",
    "print(results_df[['RR_Scale', 'TR_Scale', 'Expected_Recovery']].pivot(index='RR_Scale', columns='TR_Scale', values='Expected_Recovery') / 1e6, \" (in $M)\")\n",
    "\n",
    "# Heatmap\n",
    "pivot_table = results_df.pivot(index='RR_Scale', columns='TR_Scale', values='Expected_Recovery') / 1e6\n",
    "plt.figure(figsize=(8, 6))\n",
    "sns.heatmap(pivot_table, annot=True, fmt='.2f', cmap='RdYlGn', cbar_kws={'label': 'Expected Recovery ($M)'})\n",
    "plt.title('Sensitivity Analysis: Expected Recovery ($M)')\n",
    "plt.xlabel('TR Scale')\n",
    "plt.ylabel('RR Scale')\n",
    "plt.show()\n",
    "\n",
    "# Sensitivity metrics\n",
    "base_recovery = results_df[(results_df['RR_Scale'] == 1.0) & (results_df['TR_Scale'] == 1.0)]['Expected_Recovery'].iloc[0]\n",
    "rr_sensitivity = (results_df[results_df['TR_Scale'] == 1.0][['RR_Scale', 'Expected_Recovery']]\n",
    "                  .set_index('RR_Scale')['Expected_Recovery'] / base_recovery - 1) * 100\n",
    "tr_sensitivity = (results_df[results_df['RR_Scale'] == 1.0][['TR_Scale', 'Expected_Recovery']]\n",
    "                  .set_index('TR_Scale')['Expected_Recovery'] / base_recovery - 1) * 100\n",
    "\n",
    "print(\"\\nRR Sensitivity (% change in recovery per % change in RR):\")\n",
    "print(rr_sensitivity)\n",
    "print(\"\\nTR Sensitivity (% change in recovery per % change in TR):\")\n",
    "print(tr_sensitivity)"
   ]
  }
 ],
 "metadata": {
  "kernelspec": {
   "display_name": "base",
   "language": "python",
   "name": "python3"
  },
  "language_info": {
   "codemirror_mode": {
    "name": "ipython",
    "version": 3
   },
   "file_extension": ".py",
   "mimetype": "text/x-python",
   "name": "python",
   "nbconvert_exporter": "python",
   "pygments_lexer": "ipython3",
   "version": "3.11.3"
  }
 },
 "nbformat": 4,
 "nbformat_minor": 5
}
